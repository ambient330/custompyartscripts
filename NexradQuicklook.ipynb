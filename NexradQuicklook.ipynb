{
 "cells": [
  {
   "cell_type": "code",
   "execution_count": null,
   "id": "25010d37-be4b-4051-a8dc-5a7eaf4792f1",
   "metadata": {},
   "outputs": [],
   "source": [
    "import pyart\n",
    "import fsspec\n",
    "from metpy.plots import USCOUNTIES\n",
    "import matplotlib.pyplot as plt\n",
    "import cartopy.crs as ccrs\n",
    "import cartopy.feature as cfeature\n",
    "import warnings\n",
    "import numpy as np\n",
    "warnings.filterwarnings(\"ignore\")\n",
    "fs = fsspec.filesystem(\"s3\", anon=True) \n",
    "import cartopy.io.shapereader as shpreader\n",
    "import matplotlib.ticker as mticker\n",
    "from cartopy.mpl.gridliner import LONGITUDE_FORMATTER, LATITUDE_FORMATTER\n",
    "import math\n",
    "import matplotlib.ticker as mticker"
   ]
  },
  {
   "cell_type": "code",
   "execution_count": null,
   "id": "8cc16974-fe81-4e82-9b94-08581d68a3d0",
   "metadata": {},
   "outputs": [],
   "source": [
    "## You are using the Python ARM Radar Toolkit (Py-ART), an open source\n",
    "## library for working with weather radar data. Py-ART is partly\n",
    "## supported by the U.S. Department of Energy as part of the Atmospheric\n",
    "## Radiation Measurement (ARM) Climate Research Facility, an Office of\n",
    "## Science user facility.\n",
    "##\n",
    "## If you use this software to prepare a publication, please cite:\n",
    "##\n",
    "##     JJ Helmus and SM Collis, JORS 2016, doi: 10.5334/jors.119"
   ]
  },
  {
   "cell_type": "code",
   "execution_count": null,
   "id": "75138ae8-98cb-4a4a-87ed-4f8bb3807735",
   "metadata": {},
   "outputs": [],
   "source": [
    "plt.rcParams['axes.facecolor'] = '#0e1111'\n",
    "plt.rcParams['figure.facecolor'] = '#232b2b'\n",
    "plt.rcParams['text.color'] = 'white'\n",
    "plt.rcParams['xtick.color'] = 'white'\n",
    "plt.rcParams['ytick.color'] = 'white'\n",
    "plt.rcParams[\"figure.figsize\"] = (6.5, 6.5) #Utilize plt.rcParams to configure the way your plot looks."
   ]
  },
  {
   "cell_type": "code",
   "execution_count": null,
   "id": "b4066a70-b74e-4563-a392-2684d8720ffd",
   "metadata": {},
   "outputs": [],
   "source": [
    "fs = fsspec.filesystem(\"s3\", anon=True) #Set up AWS S3 file system"
   ]
  },
  {
   "cell_type": "code",
   "execution_count": null,
   "id": "b74c27b4-bcc3-4e08-9e5b-a4bb7ddcce82",
   "metadata": {},
   "outputs": [],
   "source": [
    "#s3://noaa-nexrad-level2/year/month/date/radarsite/{radarsite}{year}{month}{date}_{hour}{minute}{second}_V06 #Pull NEXRAD Level 2 data from AWS S3 for our plot"
   ]
  },
  {
   "cell_type": "code",
   "execution_count": null,
   "id": "27d95a3e-3987-4c2d-9506-b2e62f4be0e6",
   "metadata": {},
   "outputs": [],
   "source": [
    "files = sorted(fs.glob(\"s3://noaa-nexrad-level2/2013/05/20/KTLX/KTLX20130520_201643_V06.gz*\"))\n",
    "files #specify the file you want to plot"
   ]
  },
  {
   "cell_type": "code",
   "execution_count": null,
   "id": "93cb6aef-54dc-420e-9eb2-edab69c41e22",
   "metadata": {},
   "outputs": [],
   "source": [
    "reader1 = shpreader.Reader(\"/mnt/path/to/shapefile/\")\n",
    "reader2 = shpreader.Reader(\"/mnt/path/to/shapefile/\") \n",
    "#Set up some readers for the shapefiles we will be plotting with CartoPy\n",
    "#Extract the shapefiles.zip and put them in a safe directory and replace \"/mnt/path/to/shapefile\" with your specific paths"
   ]
  },
  {
   "cell_type": "code",
   "execution_count": null,
   "id": "2348c96a-1ef1-4b90-b017-be952fe1e83d",
   "metadata": {},
   "outputs": [],
   "source": [
    "interstates = list(reader1.geometries())\n",
    "INTERSTATES = cfeature.ShapelyFeature(interstates, ccrs.PlateCarree())\n",
    "\n",
    "counties = list(reader2.geometries())\n",
    "COUNTIES = cfeature.ShapelyFeature(counties, ccrs.PlateCarree())\n",
    "\n",
    "#Define our readers and shapefiles so we can use them in the plot later"
   ]
  },
  {
   "cell_type": "code",
   "execution_count": null,
   "id": "d5a6abe3-197c-47f8-9a32-19d79946d685",
   "metadata": {},
   "outputs": [],
   "source": [
    "radar = pyart.io.read_nexrad_archive(\"s3://noaa-nexrad-level2/2013/05/20/KTLX/KTLX20130520_201643_V06.gz*\")\n",
    "list(radar.fields)\n",
    "\n",
    "#Create a PyART module to read the data with pyart.io.read_nexrad_archive and list the fields"
   ]
  },
  {
   "cell_type": "code",
   "execution_count": null,
   "id": "6da2bf73-fc6e-45c0-8ee3-a3b2fd98c715",
   "metadata": {},
   "outputs": [],
   "source": [
    "['velocity',\n",
    " 'spectrum_width',\n",
    " 'differential_reflectivity',\n",
    " 'differential_phase',\n",
    " 'reflectivity',\n",
    " 'cross_correlation_ratio']"
   ]
  },
  {
   "cell_type": "code",
   "execution_count": null,
   "id": "3f70fdf5-885c-4ee1-88b5-08d9b421217f",
   "metadata": {},
   "outputs": [],
   "source": [
    "fig = plt.figure()\n",
    "#specify the figure"
   ]
  },
  {
   "cell_type": "code",
   "execution_count": null,
   "id": "1d39bbfa-8bbb-425d-a852-8ecae3b019a5",
   "metadata": {},
   "outputs": [],
   "source": [
    "radar_lat = radar.latitude['data'] = np.array([35.333])\n",
    "radar_lon = radar.longitude['data'] = np.array([-97.278])\n",
    "radar_name = radar.metadata['instrument_name']\n",
    "#Grab the radar lat/lon and radar metadata\n"
   ]
  },
  {
   "cell_type": "code",
   "execution_count": null,
   "id": "e5283eed-cef4-4e77-acdf-56cb6bd2b762",
   "metadata": {},
   "outputs": [],
   "source": [
    "gatefilter = pyart.filters.GateFilter(radar)\n",
    "gatefilter.exclude_transition()\n",
    "gatefilter.exclude_invalid(\"velocity\")\n",
    "gatefilter.exclude_outside(\"reflectivity\", 0, 80)\n",
    "gatefilter.exclude_outside(\"reflectivity\", 0, 80)\n",
    "gatefilter.exclude_below('reflectivity', 0)\n",
    "\n",
    "dealias_data = pyart.correct.dealias_region_based(radar, gatefilter=gatefilter)\n",
    "radar.add_field(\"corrected_velocity\", dealias_data)\n",
    "\n",
    "#Apply a gatefilter to make our data look nice and also apply a region dealias so the velocity data plotted is correct."
   ]
  },
  {
   "cell_type": "code",
   "execution_count": null,
   "id": "5dae61b0-233a-4df9-8444-8a7e333256e0",
   "metadata": {},
   "outputs": [],
   "source": [
    "sweep = 0\n",
    "#Specify a sweep in the file"
   ]
  },
  {
   "cell_type": "code",
   "execution_count": null,
   "id": "1b7fe3e8-937a-403a-9bd2-ff8f8ddaf1fe",
   "metadata": {},
   "outputs": [],
   "source": [
    "index_at_start = radar.sweep_start_ray_index['data'][sweep]\n",
    "time_at_start_of_radar = pyart.io.cfradial.netCDF4.num2date(radar.time['data'][index_at_start], \n",
    "radar.time['units'])\n",
    "formatted_date = time_at_start_of_radar.strftime('%m-%d-%Y %H:%MZ')\n",
    "#Make sure we grab the UTC time"
   ]
  },
  {
   "cell_type": "code",
   "execution_count": null,
   "id": "01ba782a-94b7-4e10-a43a-5c1213db177e",
   "metadata": {
    "jupyter": {
     "source_hidden": true
    }
   },
   "outputs": [],
   "source": [
    "slice_indices = radar.get_slice(sweep)\n",
    "max_ref = radar.fields['reflectivity']['data'][slice_indices].max()\n",
    "elev_angle = (round(radar.elevation['data'][slice_indices].mean(), 2)) \n",
    "deg_sign = u'\\N{DEGREE SIGN}'\n",
    "#Grab the sweep elevation angle, and max values in the 'reflectivity' field for our plot title."
   ]
  },
  {
   "cell_type": "code",
   "execution_count": null,
   "id": "de6d5aea-8fe2-4248-b1c5-1f2cdc054b56",
   "metadata": {},
   "outputs": [],
   "source": [
    "ax1 = fig.add_subplot(111, projection=ccrs.PlateCarree())\n",
    "ax1.add_feature(INTERSTATES, facecolor='none', edgecolor='yellow')\n",
    "ax1.add_feature(COUNTIES, facecolor='none', edgecolor='red')\n",
    "display = pyart.graph.RadarMapDisplay(radar)\n",
    "ref_map = display.plot_ppi_map('reflectivity',\n",
    "                               sweep=0,\n",
    "                               vmin=-10,\n",
    "                               vmax=70, \n",
    "                               ax=ax1,\n",
    "                               cmap='pyart_NWSRef',\n",
    "                               colorbar_label='', title='', colorbar_flag=False)\n",
    "#lets begin plotting! Using cartopy in matplotlib ensures we have a clean projection to map our NEXRAD data to.\n",
    "#Using the shapefiles imported earlier, we can plot high resolution counties and interstates as well!"
   ]
  },
  {
   "cell_type": "code",
   "execution_count": null,
   "id": "b92f65a1-f882-44f3-bc8c-fc3aea73e9b2",
   "metadata": {},
   "outputs": [],
   "source": [
    "display.plot_range_ring(50., linestyle='dashed', color='gainsboro', lw=1)\n",
    "display.plot_range_ring(150., linestyle='solid', color='gainsboro', lw=1)\n",
    "display.plot_range_ring(250., linestyle='dashdot', color='gainsboro', lw=1)\n",
    "display.plot_range_ring(350., linestyle='dashed', color='gainsboro', lw=1)\n",
    "\n",
    "#Plot range rings"
   ]
  },
  {
   "cell_type": "code",
   "execution_count": null,
   "id": "f6c7afc5-c199-46a7-96c6-3109035de0d4",
   "metadata": {},
   "outputs": [],
   "source": [
    "ax1.set_title('Level-II\\nRadar: ' + radar_name, fontsize=11, loc='left')\n",
    "ax1.set_title(str(formatted_date), fontsize=11, loc='center', fontweight='bold')\n",
    "ax1.set_title('$Z_{e}$ | Max: ' + str(max_ref) + ' dBz ' + '\\nElev Angle: ' + str(elev_angle) + deg_sign, fontsize=11, loc='right')\n",
    "\n",
    "#Set a pretty plot title up\n",
    "\n",
    "cax = fig.add_axes([ax1.get_position().x0, ax1.get_position().y0 - 0.09, ax1.get_position().width, 0.05])\n",
    "display.plot_colorbar(mappable=None, field=None, label='($Z_{e}$)', orient='horizontal', cax=cax, ax=ax1, fig=None, ticks=[-10, 0, 10, 20, 30, 40, 50, 60, 70], ticklabs=None, extend='both')\n",
    "cax.xaxis.label.set_color('white')\n",
    "\n",
    "#Plot a nice colorbar that rests directly under your plot with custom ticklabels\n"
   ]
  },
  {
   "cell_type": "code",
   "execution_count": null,
   "id": "691eff4a-3ca2-41c9-b552-8adfc832e177",
   "metadata": {},
   "outputs": [],
   "source": [
    "ax1.add_feature(cfeature.LAND.with_scale('10m'))\n",
    "ax1.add_feature(cfeature.OCEAN.with_scale('10m'))\n",
    "ax1.add_feature(cfeature.LAKES.with_scale('10m'))\n",
    "\n",
    "resol = '10m'\n",
    "land = cfeature.NaturalEarthFeature('physical', 'land', scale=resol, facecolor=cfeature.COLORS['land'])\n",
    "ax1.add_feature(land, facecolor='#5A4B41', zorder=0)\n",
    "\n",
    "#Add some land and lakes to your plot with a custom land facecolor"
   ]
  },
  {
   "cell_type": "code",
   "execution_count": null,
   "id": "26a41055-e301-4a96-a5dc-461fc2654601",
   "metadata": {},
   "outputs": [],
   "source": [
    "dtor = math.pi/180.0\n",
    "max_range = 350\n",
    "maxrange_meters = max_range * 1000.\n",
    "meters_to_lat = 1. / 111177.\n",
    "meters_to_lon =  1. / (111177. * math.cos(radar_lat * dtor))\n",
    "\n",
    "#Do some fancy math for our azimuth lines"
   ]
  },
  {
   "cell_type": "code",
   "execution_count": null,
   "id": "5992eb2c-340d-4b51-9c34-cee85a0a2338",
   "metadata": {},
   "outputs": [],
   "source": [
    "for azi in range(0, 360, 45):  #45 degree intervals\n",
    "    azimuth = 90. - azi\n",
    "    dazimuth = azimuth * dtor\n",
    "    lon_maxrange = radar_lon + math.cos(dazimuth) * meters_to_lon * maxrange_meters\n",
    "    lat_maxrange = radar_lat + math.sin(dazimuth) * meters_to_lat * maxrange_meters\n",
    "    display.plot_line_geo([radar_lon, lon_maxrange], [radar_lat, lat_maxrange], linestyle='-', lw=0.5, color='gainsboro')\n",
    "\n",
    "max_values = [50, 150, 350]     \n",
    "\n",
    "\n",
    "#Set up our azimuth lines and plot them"
   ]
  },
  {
   "cell_type": "code",
   "execution_count": null,
   "id": "91138cc7-7bf9-40b1-a3be-2b5fbccc8a68",
   "metadata": {},
   "outputs": [],
   "source": [
    "azim = 90. - 30\n",
    "dazim = azim * dtor\n",
    "for i in max_values:\n",
    "    max_m = i * 1000.\n",
    "    lon_max = radar_lon + math.cos(dazim) * meters_to_lon * max_m\n",
    "    lat_max = radar_lat + math.sin(dazim) * meters_to_lat * max_m\n",
    "    display.plot_point(lon_max, lat_max, symbol='None', label_text=' '+str(i)+'km')\n",
    "\n",
    "display.plot_point(radar.longitude['data'][0], radar.latitude['data'][0],color='k',label_text='KTLX', symbol='*', markersize=10)\n",
    "\n",
    "#Display some distance markers and a nice plot point and radar name at the radar site"
   ]
  },
  {
   "cell_type": "code",
   "execution_count": null,
   "id": "e261a347-c6b7-4814-bc7c-22dfef78085d",
   "metadata": {},
   "outputs": [],
   "source": [
    "output_png = 'PYART.png'\n",
    "dpi = 800\n",
    "plt.savefig(output_png, dpi=dpi)\n",
    "#Create an output image of the plot in whatever directory youre currently in \n",
    "\n",
    "\n",
    "plt.show()\n",
    "#show the plot"
   ]
  },
  {
   "cell_type": "code",
   "execution_count": null,
   "id": "4062d6ba-c1a4-4544-8c68-b6d7ee8aeda3",
   "metadata": {},
   "outputs": [],
   "source": []
  }
 ],
 "metadata": {
  "kernelspec": {
   "display_name": "Python 3 (ipykernel)",
   "language": "python",
   "name": "python3"
  },
  "language_info": {
   "codemirror_mode": {
    "name": "ipython",
    "version": 3
   },
   "file_extension": ".py",
   "mimetype": "text/x-python",
   "name": "python",
   "nbconvert_exporter": "python",
   "pygments_lexer": "ipython3",
   "version": "3.11.7"
  }
 },
 "nbformat": 4,
 "nbformat_minor": 5
}
